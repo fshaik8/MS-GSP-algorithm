{
  "nbformat": 4,
  "nbformat_minor": 0,
  "metadata": {
    "colab": {
      "provenance": []
    },
    "kernelspec": {
      "name": "python3",
      "display_name": "Python 3"
    },
    "language_info": {
      "name": "python"
    }
  },
  "cells": [
    {
      "cell_type": "markdown",
      "source": [
        "# MS-GSP algorithm for generating sequential patterns\n",
        "## Implemented by Firoz, Shaik and Charith Reddy, Gundala"
      ],
      "metadata": {
        "id": "kD78zIVV94Hn"
      }
    },
    {
      "cell_type": "markdown",
      "source": [
        "Importing libraries"
      ],
      "metadata": {
        "id": "oOFI_xlPAWi8"
      }
    },
    {
      "cell_type": "code",
      "source": [
        "import re\n",
        "from collections import defaultdict\n",
        "import copy"
      ],
      "metadata": {
        "id": "70hjIuaE-Cqa"
      },
      "execution_count": 278,
      "outputs": []
    },
    {
      "cell_type": "code",
      "source": [
        "from google.colab import drive\n",
        "drive.mount('/content/drive')"
      ],
      "metadata": {
        "colab": {
          "base_uri": "https://localhost:8080/"
        },
        "id": "B-exrmOA-I1W",
        "outputId": "cf434aba-ddde-4582-bb1e-7c3e37ff19ef"
      },
      "execution_count": 279,
      "outputs": [
        {
          "output_type": "stream",
          "name": "stdout",
          "text": [
            "Drive already mounted at /content/drive; to attempt to forcibly remount, call drive.mount(\"/content/drive\", force_remount=True).\n"
          ]
        }
      ]
    },
    {
      "cell_type": "markdown",
      "source": [
        "Function to read the data file"
      ],
      "metadata": {
        "id": "EwCDBUuXAJr7"
      }
    },
    {
      "cell_type": "code",
      "source": [
        "def extract_data_from_line(data_line):\n",
        "    cleaned_line = data_line.strip().strip('<').strip('>')\n",
        "    return [list(map(int, item.split(','))) for item in re.findall('{(.*?)}', cleaned_line)]\n",
        "\n",
        "data_file_path = '/content/drive/MyDrive/large-data-2/data2.txt'\n",
        "parsed_data = defaultdict(list)\n",
        "\n",
        "with open(data_file_path) as file:\n",
        "    for line_number, line in enumerate(file, start=1):\n",
        "        parsed_data[line_number] = extract_data_from_line(line)"
      ],
      "metadata": {
        "id": "EG0KI4QV-Owh"
      },
      "execution_count": 280,
      "outputs": []
    },
    {
      "cell_type": "markdown",
      "source": [
        "Function to read the parameter file"
      ],
      "metadata": {
        "id": "loF_MfFZAPOA"
      }
    },
    {
      "cell_type": "code",
      "source": [
        "MS = {}\n",
        "SDC = None\n",
        "\n",
        "with open('/content/drive/MyDrive/large-data-2/para2-2.txt') as param_file:\n",
        "    for line in param_file:\n",
        "        if \"MIS\" in line:\n",
        "            item_id = int(line[line.find(\"(\") + 1:line.find(\")\")])\n",
        "            min_support = float(line[line.find(\"=\") + 1:].lstrip(\" \").lstrip(\"\\n\"))\n",
        "            MS[item_id] = min_support\n",
        "        else:\n",
        "            SDC = float(line[line.find(\"=\") + 1:].lstrip())"
      ],
      "metadata": {
        "id": "itD8gDZk-QZD"
      },
      "execution_count": 281,
      "outputs": []
    },
    {
      "cell_type": "markdown",
      "source": [
        "## Get M - Line 1 sorts the items in ascending order according to their MIS values stored in MS"
      ],
      "metadata": {
        "id": "i4uM-XRcCo2O"
      }
    },
    {
      "cell_type": "code",
      "source": [
        "M = []\n",
        "\n",
        "for key, value in sorted(MS.items(), key=lambda kv: kv[1]):\n",
        "    M.append(key)"
      ],
      "metadata": {
        "id": "PVNhfeLT-Qb3"
      },
      "execution_count": 282,
      "outputs": []
    },
    {
      "cell_type": "markdown",
      "source": [
        "## Functions"
      ],
      "metadata": {
        "id": "sXx3OHPgaDRY"
      }
    },
    {
      "cell_type": "markdown",
      "source": [
        "makes the first pass over the sequence data using the function init-pass (line 2)"
      ],
      "metadata": {
        "id": "q1_OYO1v7fld"
      }
    },
    {
      "cell_type": "code",
      "source": [
        "def init_pass(M, S, n, MS):\n",
        "    count = defaultdict(int)\n",
        "    count_L = defaultdict(int)\n",
        "    L = []\n",
        "\n",
        "    for i, sequence in S.items():\n",
        "        for item in M:\n",
        "            if item in sum(sequence, []):\n",
        "                count[item] += 1\n",
        "    for item in M:\n",
        "        if float(count[item] / n) >= float(MS[item]):\n",
        "            min_MIS, min_index = float(MS[item]), M.index(item)\n",
        "            break\n",
        "    for index in range(min_index, len(M)):\n",
        "        if float(count[M[index]] / n) >= min_MIS:\n",
        "            L.append(M[index])\n",
        "            count_L[M[index]] = count[M[index]]\n",
        "    return L, count_L"
      ],
      "metadata": {
        "id": "mcHzwOwb-Qeo"
      },
      "execution_count": 283,
      "outputs": []
    },
    {
      "cell_type": "markdown",
      "source": [
        "Frequent 1-sequences (F1) are obtained from L (line 3)"
      ],
      "metadata": {
        "id": "IJl0PaPs78pW"
      }
    },
    {
      "cell_type": "code",
      "source": [
        "def generate_F1(L, MS, C, count, n):\n",
        "    F1 = []\n",
        "    for item in L:\n",
        "        support_ratio = C[item] / n\n",
        "        if float(support_ratio) >= MS[item]:\n",
        "            item_string = \"[\" + str(item) + \"]\"\n",
        "            count[item_string] = C[item]\n",
        "            F1.append([item])\n",
        "    return F1"
      ],
      "metadata": {
        "id": "-B8zm0Bx-QjU"
      },
      "execution_count": 284,
      "outputs": []
    },
    {
      "cell_type": "markdown",
      "source": [
        "level2-candidate-gen-SPM()"
      ],
      "metadata": {
        "id": "jjNXwVUq9B5h"
      }
    },
    {
      "cell_type": "code",
      "source": [
        "def level2_Candidate_gen_SPM(L, item_counts, MS, SDC, total_items):\n",
        "    def remove_duplicates(candidates):\n",
        "        return [c for c in candidates if (isinstance(c[0], int) and c[0] < c[1]) or isinstance(c[0], list)]\n",
        "\n",
        "    if L:\n",
        "        candidate_pairs = []\n",
        "        for item in L:\n",
        "            if item_counts[item] >= MS[item]:\n",
        "                for next_item in L[L.index(item):]:\n",
        "                    if (\n",
        "                        item_counts[next_item] >= MS[item]\n",
        "                        and abs((item_counts[next_item] / total_items) - (item_counts[item] / total_items))\n",
        "                        <= SDC\n",
        "                    ):\n",
        "                        candidate_pairs.append([item, next_item])\n",
        "                        candidate_pairs.append([[item], [next_item]])\n",
        "                for next_item in L[: L.index(item)]:\n",
        "                    if (\n",
        "                        item_counts[next_item] >= MS[item]\n",
        "                        and abs((item_counts[next_item] / total_items) - (item_counts[item] / total_items))\n",
        "                        <= SDC\n",
        "                    ):\n",
        "                        candidate_pairs.append([item, next_item])\n",
        "                        candidate_pairs.append([[item], [next_item]])\n",
        "\n",
        "    cleaned_candidates = remove_duplicates(candidate_pairs)\n",
        "    return cleaned_candidates"
      ],
      "metadata": {
        "id": "lKEb_CQm-QmS"
      },
      "execution_count": 285,
      "outputs": []
    },
    {
      "cell_type": "markdown",
      "source": [
        "checking if a sequence is subsequence"
      ],
      "metadata": {
        "id": "Jlf-W-rHTjZu"
      }
    },
    {
      "cell_type": "code",
      "source": [
        "def is_subsequence_check(candidate, seq):\n",
        "    if isinstance(candidate[0], int):candidate = [candidate]\n",
        "    index, flags = -1, [0] * len(seq)\n",
        "\n",
        "    for element in candidate:\n",
        "        if len(element) == len(set(element)):\n",
        "            for i in range(index + 1, len(seq)):\n",
        "              if set(element).issubset(set(seq[i])) and not flags[i]:\n",
        "                  index, flags[i] = i, 1\n",
        "                  break\n",
        "\n",
        "    return sum(flags) == len(candidate)"
      ],
      "metadata": {
        "id": "xFE8scia-QpT"
      },
      "execution_count": 286,
      "outputs": []
    },
    {
      "cell_type": "markdown",
      "source": [
        "Generate Fk by checking the minmis"
      ],
      "metadata": {
        "id": "x4b-oYZ7TrE8"
      }
    },
    {
      "cell_type": "code",
      "source": [
        "def Fk_Generation(Candidates, MS, count, n):\n",
        "    F = []\n",
        "    for i in Candidates:\n",
        "        temp = [item for sublist in i for item in sublist] if isinstance(i[0], list) else copy.deepcopy(i)\n",
        "        min_MIS = float('inf')\n",
        "        for item in temp:\n",
        "            min_MIS = min(min_MIS, MS[item])\n",
        "        if float(count[str(i)] / n) >= float(min_MIS):F.append(i)\n",
        "    return F"
      ],
      "metadata": {
        "id": "ofiCsyCf-QsH"
      },
      "execution_count": 287,
      "outputs": []
    },
    {
      "cell_type": "markdown",
      "source": [
        "MS_Candidate-gen-SPM function(line 7)"
      ],
      "metadata": {
        "id": "2KawuRVkOKtA"
      }
    },
    {
      "cell_type": "code",
      "source": [
        "def MScandidate_gen_SPM(F, count_L, SDC, MS, n):\n",
        "    def merge_lists(s):\n",
        "        return sum(s, []) if type(s[0]) is list else copy.deepcopy(s)\n",
        "\n",
        "    candidate_list = []\n",
        "\n",
        "\n",
        "    def is_smallest(s, MS):\n",
        "        def merge_and_copy(s2):\n",
        "            return sum(s2, []) if type(s2[0]) is list else copy.deepcopy(s2)\n",
        "\n",
        "        temp = merge_and_copy(s)\n",
        "        if len(set(temp)) == 1:\n",
        "            return False\n",
        "        for item in temp:\n",
        "            if MS[item] <= MS[temp[0]] and item != temp[0]:\n",
        "                return False\n",
        "        return True\n",
        "\n",
        "    def length(s):\n",
        "        def merge_and_copy(s):\n",
        "            return sum(s, []) if type(s[0]) is list else copy.deepcopy(s)\n",
        "\n",
        "        return len(merge_and_copy(s))\n",
        "\n",
        "\n",
        "    def size(s):\n",
        "        if type(s[0]) is list:\n",
        "            return len(s)\n",
        "        else:\n",
        "            return 1\n",
        "\n",
        "\n",
        "\n",
        "    def first_MIS(s1, s2):\n",
        "        s1_temp = merge_lists(s1)\n",
        "        s2_temp = merge_lists(s2)\n",
        "        s1_temp_popped = copy.deepcopy(s1_temp)\n",
        "        s1_temp_popped.pop(1)\n",
        "        s2_temp_popped = s2_temp[:-1]\n",
        "\n",
        "        if s1_temp_popped == s2_temp_popped and abs(float(count_L.get(s2_temp[-1]) / n) - float(\n",
        "                count_L.get(s1_temp[1]) / n)) <= SDC and MS[s2_temp[-1]] >= MS[s1_temp[0]]:\n",
        "            if isinstance(s2[-1], list) and length(s2[-1]) == 1:\n",
        "                if isinstance(s1[-1], int):\n",
        "                    candidate = []\n",
        "                    candidate.append(copy.deepcopy(s1))\n",
        "                    candidate.append(copy.deepcopy(s2[-1]))\n",
        "                    candidate_list.append(candidate)\n",
        "                else:\n",
        "                    candidate = copy.deepcopy(s1) + [copy.deepcopy(s2[-1])]\n",
        "                    candidate_list.append(candidate)\n",
        "                if length(s1) == 2 and size(s1) == 2 and s2_temp[-1] > s1_temp[-1]:\n",
        "                    candidate = copy.deepcopy(s1)\n",
        "                    candidate[-1].extend(copy.deepcopy(s2[-1]))\n",
        "                    candidate_list.append(candidate)\n",
        "            elif (size(s1) == 1 and length(s1) == 2 and s2_temp[-1] > s1_temp[-1]) or length(s1) > 2:\n",
        "                if type(s1[-1]) is int:\n",
        "                    candidate = copy.deepcopy(s1)\n",
        "                    candidate.append(s2[-1])\n",
        "                    candidate_list.append(candidate)\n",
        "                else:\n",
        "                    last = copy.deepcopy(s2[-1])\n",
        "                    if isinstance(last, list):\n",
        "                        item = last[-1]\n",
        "                    else:\n",
        "                        item = last\n",
        "                    candidate = copy.deepcopy(s1)\n",
        "                    candidate[-1].append(item)\n",
        "                    candidate_list.append(candidate)\n",
        "\n",
        "    def last_MIS(s2, MS):\n",
        "        def merge_and_copy(s2):\n",
        "            return sum(s2, []) if type(s2[0]) is list else copy.deepcopy(s2)\n",
        "\n",
        "        temp = merge_and_copy(s2)\n",
        "        last_item = temp[-1]\n",
        "        if len(set(temp)) == 1:\n",
        "            return False\n",
        "        for i in temp:\n",
        "            if MS[i] <= MS[last_item] and i != last_item:\n",
        "                return False\n",
        "        return True\n",
        "\n",
        "    def remove_last_MIS(s1, s2):\n",
        "        s1_temp = merge_lists(s1)\n",
        "        s2_temp = merge_lists(s2)\n",
        "        s1_0 = s1_temp[0]\n",
        "        s2_0 = s2_temp[0]\n",
        "        s1_first_MIS = MS[s1_temp[0]]\n",
        "        s2_last_MIS = MS[s2_temp[-1]]\n",
        "        S1_first = s1_temp.pop(0)\n",
        "        if len(s2_temp) == 2:\n",
        "            S2_2nd_last = s2_temp.pop(0)\n",
        "        else:\n",
        "            S2_2nd_last = s2_temp.pop(-2)\n",
        "        if s1_temp == s2_temp and abs(float(count_L[S1_first] / n) - float((count_L[S2_2nd_last] / n))) <= SDC and s2_last_MIS < s1_first_MIS:\n",
        "            if type(s1[0]) is list and len(s1[0]) == 1:\n",
        "                if type(s2[0]) is int:\n",
        "                    candidate = []\n",
        "                    candidate.append(copy.deepcopy(s1[0]))\n",
        "                    candidate.append(copy.deepcopy(s2))\n",
        "                    candidate_list.append(candidate)\n",
        "                else:\n",
        "                    candidate = [copy.deepcopy(s1[0])] + copy.deepcopy(s2)\n",
        "                    candidate_list.append(candidate)\n",
        "                if length(s2) == 2 and size(s2) == 2 and s1_0 < s2_0:\n",
        "                    candidate = copy.deepcopy(s2)\n",
        "                    candidate[0].insert(0, s1[0][0])\n",
        "                    candidate_list.append(candidate)\n",
        "            elif (length(s2) == 2 and size(s2) == 1 and s1_0 < s2_0) or length(s2) > 2:\n",
        "                if type(s2[0]) is int:\n",
        "                    candidate = copy.deepcopy(s2)\n",
        "                    candidate.insert(0, s1[0])\n",
        "                    candidate_list.append(candidate)\n",
        "                else:\n",
        "                    first = copy.deepcopy(s1[0])\n",
        "                    if isinstance(first, list):\n",
        "                        item = first[0]\n",
        "                    else:\n",
        "                        item = first\n",
        "                    candidate = copy.deepcopy(s2)\n",
        "                    candidate[0].insert(0, item)\n",
        "                    candidate_list.append(candidate)\n",
        "\n",
        "    def join_phase(s1, s2):\n",
        "        s1_temp = merge_lists(s1)\n",
        "        s2_temp = merge_lists(s2)\n",
        "        S1_first = s1_temp.pop(0)\n",
        "        S2_last = s2_temp.pop()\n",
        "        if s1_temp == s2_temp and abs(float(count_L[S1_first] / n) - float((count_L[S2_last] / n))) <= SDC:\n",
        "            last = copy.deepcopy(s2[-1])\n",
        "            if type(last) is list and len(last) == 1:\n",
        "                if type(s1[0]) is int:\n",
        "                    candidate = []\n",
        "                    candidate.append(copy.deepcopy(s1))\n",
        "                    candidate.append(copy.deepcopy(s2[-1]))\n",
        "                    candidate_list.append(candidate)\n",
        "                else:\n",
        "                    candidate = copy.deepcopy(s1) + [copy.deepcopy(s2[-1])]\n",
        "                    candidate_list.append(candidate)\n",
        "            else:\n",
        "                if type(s1[0]) is int:\n",
        "                    if isinstance(last, list):\n",
        "                        item = last[-1]\n",
        "                    else:\n",
        "                        item = last\n",
        "                    candidate = copy.deepcopy(s1)\n",
        "                    candidate.append(item)\n",
        "                    candidate_list.append(candidate)\n",
        "                else:\n",
        "                    if isinstance(last, list):\n",
        "                        item = last[-1]\n",
        "                    else:\n",
        "                        item = last\n",
        "                    candidate = copy.deepcopy(s1)\n",
        "                    candidate[-1].append(item)\n",
        "                    candidate_list.append(candidate)\n",
        "\n",
        "    for s1 in F:\n",
        "        for s2 in F:\n",
        "            if is_smallest(s1, MS):\n",
        "                first_MIS(s1, s2)\n",
        "            elif last_MIS(s2, MS):\n",
        "                remove_last_MIS(s1, s2)\n",
        "            else:\n",
        "                join_phase(s1, s2)\n",
        "\n",
        "    twin = []\n",
        "    for i in range(0, len(candidate_list) - 1):\n",
        "        for j in range(i + 1, len(candidate_list) - 2):\n",
        "            if candidate_list[i] == candidate_list[j]:\n",
        "                twin.append(candidate_list[i])\n",
        "    for i in twin:\n",
        "        candidate_list.remove(i)\n",
        "    for k in candidate_list:\n",
        "        if not prune_phase(k, MS, F):\n",
        "            candidate_list.remove(k)\n",
        "    return candidate_list\n",
        "\n",
        "def prune_phase(candidate, MS, F):\n",
        "    def min_MIS(s, MS):\n",
        "        def merge_and_copy(s2):\n",
        "            return sum(s2, []) if type(s2[0]) is list else copy.deepcopy(s2)\n",
        "\n",
        "        temp = merge_and_copy(s)\n",
        "        min_MIS_val = float('inf')\n",
        "        for item in temp:\n",
        "            min_MIS_val = min(min_MIS_val, MS[item])\n",
        "        return min_MIS_val\n",
        "\n",
        "    min_MIS_value = min_MIS(candidate, MS)\n",
        "    if isinstance(candidate[0], list):\n",
        "        for i in range(len(candidate)):\n",
        "            for item in range(len(candidate[i])):\n",
        "                temp = copy.deepcopy(candidate)\n",
        "                if len(candidate[i]) == 1:\n",
        "                    temp.remove(candidate[i])\n",
        "                    if len(temp) == 1:\n",
        "                        temp = temp[0]\n",
        "                else:\n",
        "                    temp[i].remove(candidate[i][item])\n",
        "                temp_mis = min_MIS(temp, MS)\n",
        "                if temp_mis == min_MIS_value:\n",
        "                    if temp not in F:\n",
        "                        return False\n",
        "    else:\n",
        "        for i in range(len(candidate)):\n",
        "            temp = copy.deepcopy(candidate)\n",
        "            temp.remove(candidate[i])\n",
        "            temp_mis = min_MIS(temp, MS)\n",
        "            if temp_mis == min_MIS_value:\n",
        "                if temp not in F:\n",
        "                    return False\n",
        "    return True"
      ],
      "metadata": {
        "id": "dX8QVcVF-Qu-"
      },
      "execution_count": 288,
      "outputs": []
    },
    {
      "cell_type": "markdown",
      "source": [
        "Creating output file"
      ],
      "metadata": {
        "id": "wrRpyQXBV6-r"
      }
    },
    {
      "cell_type": "code",
      "source": [
        "def print_output(k, F, count):\n",
        "    with open(\"/content/drive/MyDrive/Result data/result-2-2.txt\", \"a\") as file:\n",
        "        file.write(\"\\n**********************************************\\n\")\n",
        "        file.write(\"\\n{}-sequences:\\n\".format(k))\n",
        "        for candidate in F:\n",
        "            output_var = list(str(candidate))\n",
        "            if isinstance(candidate[-1], list):output_var[0], output_var[-1] = '<', '>'\n",
        "            else:output_var[0], output_var[-1] = '<{', '}>'\n",
        "            for i in range(len(output_var)):\n",
        "                if output_var[i] == '[':output_var[i] = '{'\n",
        "                if output_var[i] == ']':output_var[i] = '}'\n",
        "                if output_var[i] == ',':\n",
        "                    if output_var[i-1] == '}':output_var[i], output_var[i+1]  = '', ''\n",
        "            output_var = ''.join(output_var)\n",
        "            file.write(\"\\n{} -1 count: {}\".format(output_var, count[str(candidate)]))\n",
        "        file.write(\"\\n\\n The count of {}-sequences is: {}\".format(k, len(F)))"
      ],
      "metadata": {
        "id": "F62dHMrl-Qx2"
      },
      "execution_count": 289,
      "outputs": []
    },
    {
      "cell_type": "markdown",
      "source": [
        "## init-pass (line 2) - Getting L"
      ],
      "metadata": {
        "id": "ENScdU5gWGjn"
      }
    },
    {
      "cell_type": "code",
      "source": [
        "n=len(parsed_data)\n",
        "L, Count_L=init_pass(M, parsed_data, n, MS)"
      ],
      "metadata": {
        "id": "IIRd7-Kf-Q0f"
      },
      "execution_count": 290,
      "outputs": []
    },
    {
      "cell_type": "markdown",
      "source": [
        "## Generating frequent 1-sequences from L (line 3)"
      ],
      "metadata": {
        "id": "Rk3pYxl2WcZj"
      }
    },
    {
      "cell_type": "code",
      "source": [
        "F = defaultdict(list)\n",
        "seq_number = 1\n",
        "count = defaultdict(int)\n",
        "F[seq_number] = generate_F1(L, MS, Count_L, count, n)\n",
        "print_output(seq_number, F[seq_number], count)"
      ],
      "metadata": {
        "id": "v6l62alM-Q3Y"
      },
      "execution_count": 291,
      "outputs": []
    },
    {
      "cell_type": "markdown",
      "source": [
        "## Generating F2, F3, ...(line 4 to end)"
      ],
      "metadata": {
        "id": "KVHCEGKZXUbM"
      }
    },
    {
      "cell_type": "code",
      "source": [
        "seq_number += 1\n",
        "while F[seq_number - 1]:\n",
        "    Candidates = []\n",
        "    if seq_number == 2:\n",
        "        Candidates = level2_Candidate_gen_SPM(L, Count_L, MS, SDC, n)\n",
        "    else:\n",
        "        Candidates = MScandidate_gen_SPM(F[seq_number - 1], Count_L, SDC, MS, n)\n",
        "\n",
        "    for t, s in parsed_data.items():\n",
        "        for candidate in Candidates:\n",
        "            isSequence = is_subsequence_check(candidate, s)\n",
        "            if isSequence:\n",
        "                count[str(candidate)] += 1\n",
        "    F[seq_number] = Fk_Generation(Candidates, MS, count, n)\n",
        "    print_output(seq_number, F[seq_number], count)\n",
        "    seq_number += 1"
      ],
      "metadata": {
        "id": "hZ3NqECJ-Q9I"
      },
      "execution_count": 292,
      "outputs": []
    }
  ]
}